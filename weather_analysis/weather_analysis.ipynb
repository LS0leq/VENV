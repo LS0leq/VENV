{
 "cells": [
  {
   "cell_type": "markdown",
   "metadata": {},
   "source": [
    "# Analiza danych pogodowych\n",
    "\n",
    "W tym notebooku analizujemy dane pogodowe z biblioteki Meteostat."
   ]
  },
  {
   "cell_type": "code",
   "execution_count": null,
   "metadata": {},
   "source": [
    "# Importy\n",
    "import pandas as pd\n",
    "import numpy as np\n",
    "import matplotlib.pyplot as plt\n",
    "import seaborn as sns\n",
    "from datetime import datetime\n",
    "from meteostat import Point, Daily\n",
    "import folium\n",
    "\n",
    "# Konfiguracja wykresu\n",
    "plt.style.use('ggplot')\n",
    "sns.set(style=\"darkgrid\")\n",
    "%matplotlib inline"
   ]
  },
  {
   "cell_type": "markdown",
   "metadata": {},
   "source": [
    "## Pobranie danych pogodowych dla Warszawy"
   ]
  },
  {
   "cell_type": "code",
   "execution_count": null,
   "metadata": {},
   "source": [
    "# Ustawienie punktu (Warszawa)\n",
    "warsaw = Point(52.2297, 21.0122)\n",
    "\n",
    "# Ustawienie zakresu czasu (ostatni rok)\n",
    "start = datetime(2024, 1, 1)\n",
    "end = datetime(2024, 12, 31)\n",
    "\n",
    "# Pobranie danych\n",
    "data = Daily(warsaw, start, end)\n",
    "data = data.fetch()\n",
    "\n",
    "# Wyświetlenie pierwszych wierszy\n",
    "data.head()"
   ]
  },
  {
   "cell_type": "markdown",
   "metadata": {},
   "source": [
    "## Analiza temperatur"
   ]
  },
  {
   "cell_type": "code",
   "execution_count": null,
   "metadata": {},
   "source": [
    "# Wykres temperatury\n",
    "plt.figure(figsize=(15, 6))\n",
    "plt.plot(data.index, data['tavg'], label='Średnia temperatura', color='blue')\n",
    "plt.plot(data.index, data['tmin'], label='Min. temperatura', color='green')\n",
    "plt.plot(data.index, data['tmax'], label='Max. temperatura', color='red')\n",
    "plt.title('Temperatury w Warszawie')\n",
    "plt.xlabel('Data')\n",
    "plt.ylabel('Temperatura (°C)')\n",
    "plt.legend()\n",
    "plt.grid(True)\n",
    "plt.show()"
   ]
  },
  {
   "cell_type": "markdown",
   "metadata": {},
   "source": [
    "## Analiza opadów"
   ]
  },
  {
   "cell_type": "code",
   "execution_count": null,
   "metadata": {},
   "source": [
    "# Wykres opadów\n",
    "plt.figure(figsize=(15, 6))\n",
    "plt.bar(data.index, data['prcp'], color='skyblue')\n",
    "plt.title('Opady w Warszawie')\n",
    "plt.xlabel('Data')\n",
    "plt.ylabel('Opady (mm)')\n",
    "plt.grid(True)\n",
    "plt.show()"
   ]
  },
  {
   "cell_type": "markdown",
   "metadata": {},
   "source": [
    "## Mapa z lokalizacją"
   ]
  },
  {
   "cell_type": "code",
   "execution_count": null,
   "metadata": {},
   "source": [
    "# Tworzenie mapy\n",
    "m = folium.Map(location=[52.2297, 21.0122], zoom_start=10)\n",
    "folium.Marker(\n",
    "    location=[52.2297, 21.0122],\n",
    "    popup='Warszawa',\n",
    "    icon=folium.Icon(color='blue')\n",
    ").add_to(m)\n",
    "m"
   ]
  }
 ],
 "metadata": {
  "kernelspec": {
   "display_name": "Python 3",
   "language": "python",
   "name": "python3"
  },
  "language_info": {
   "codemirror_mode": {
    "name": "ipython",
    "version": 3
   },
   "file_extension": ".py",
   "mimetype": "text/x-python",
   "name": "python",
   "nbconvert_exporter": "python",
   "pygments_lexer": "ipython3",
   "version": "3.10.0"
  }
 },
 "nbformat": 4,
 "nbformat_minor": 4
}